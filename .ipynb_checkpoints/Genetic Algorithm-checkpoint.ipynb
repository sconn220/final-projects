{
 "cells": [
  {
   "cell_type": "markdown",
   "metadata": {},
   "source": [
    "Partioning Genetic Algorithms\n",
    "====================\n",
    "\n",
    "By Scott O'Connor\n",
    "---------------------\n",
    "\n",
    "This is a quick look at partitioning GA's"
   ]
  },
  {
   "cell_type": "code",
   "execution_count": 1,
   "metadata": {
    "collapsed": true
   },
   "outputs": [],
   "source": [
    "import numpy as np\n",
    "import operator\n",
    "from copy import deepcopy\n",
    "from deap import creator,base,tools,algorithms\n",
    "import matplotlib.pyplot as plt\n",
    "toolbox = base.Toolbox()"
   ]
  },
  {
   "cell_type": "markdown",
   "metadata": {},
   "source": [
    "<h1>Organism Class</h1>\n",
    "Stores the following:\n",
    "<ul>\n",
    "<li>partition</li>\n",
    "<li>fitness-Value assigned by the Envirnoment it is in</li>\n",
    "<ul>\n"
   ]
  },
  {
   "cell_type": "code",
   "execution_count": 2,
   "metadata": {
    "collapsed": true
   },
   "outputs": [],
   "source": [
    "class Organism(object):\n",
    "    '''\n",
    "    An organism is defined by its partition and has resulting fitness.\n",
    "    Fitness is determined by the enviroment it is in.\n",
    "    '''\n",
    "    def __init__(self, partition):\n",
    "        self.partition = partition\n",
    "        self.fitness = None"
   ]
  },
  {
   "cell_type": "markdown",
   "metadata": {},
   "source": [
    "<h1>Population Class</h1>\n",
    "Stores the following:\n",
    "<ul>\n",
    "<li>Population Size - to be used in indexing</li>\n",
    "<li>Partition Length </li>\n",
    "<li>Organisms - a list of Organism Objects</li>\n",
    "<li>Minium Fitness - what is the smallest fitness</li>\n",
    "<ul>\n"
   ]
  },
  {
   "cell_type": "code",
   "execution_count": 3,
   "metadata": {
    "collapsed": true
   },
   "outputs": [],
   "source": [
    "class Population(object):\n",
    "    \"\"\"\n",
    "    Contains all the organism for one generations\n",
    "    \"\"\"\n",
    "    def __init__(self, population, nprtl):\n",
    "        self.population_size = len(population)\n",
    "        self.nprtl = nprtl\n",
    "        self.organisms = population \n",
    "        self.min_fitness = self.__Min_Fitness()\n",
    "        \n",
    "        \n",
    "    def __Min_Fitness(self):\n",
    "        \"\"\"\n",
    "        Calculates Min Fitness of that generation   \n",
    "        \"\"\"\n",
    "        min_fitness = self.organisms[0].fitness    \n",
    "        for ii in range(self.population_size):\n",
    "            if (self.organisms[ii].fitness != None):\n",
    "                if (self.organisms[ii].fitness < min_fitness):\n",
    "                    min_fitness = self.organisms[ii].fitness\n",
    "        return min_fitness"
   ]
  },
  {
   "cell_type": "markdown",
   "metadata": {},
   "source": [
    "<h1>Envirnoment Class</h1>\n",
    "Stores the following\n",
    "<ul>\n",
    "<li>Partition Width </li>\n",
    "<li>Number of Bins  </li>\n",
    "<li>Population Size</li>\n",
    "<li>Weights</li>\n",
    "<li>Generations</li>\n",
    "<li>Number of Generations</li>\n",
    "</ul>\n",
    "\n",
    "Function: inital Population - create a population of organisms\n",
    "\n",
    "Function: Create_New_Generation - Creates a new generation of organisms"
   ]
  },
  {
   "cell_type": "code",
   "execution_count": 4,
   "metadata": {
    "collapsed": true
   },
   "outputs": [],
   "source": [
    "class Environment(object):\n",
    "    def __init__(self,weights,nprtl,pop_size,nbins):\n",
    "        self.nprtl = nprtl\n",
    "        self.nbins = nbins\n",
    "        self.population_size = pop_size\n",
    "        self.weights = weights\n",
    "        self.generation = self.__initial_population()\n",
    "        self.num_generations = 0\n",
    "        \n",
    "    def __initial_population(self):\n",
    "        '''Creates an initial population of organisms'''\n",
    "        population = []\n",
    "        for ii in range(self.population_size):\n",
    "            partition = np.random.randint(self.nbins, size = self.nprtl)            \n",
    "            organism = Organism(partition)\n",
    "            organism.fitness = Fitness_Multi_Bin(organism,self.nbins,self.weights)\n",
    "            population.append(organism)\n",
    "        generation = Population(population,self.nprtl)\n",
    "        return [generation]\n",
    "              \n",
    "    def Create_New_Generation(self):\n",
    "        '''\n",
    "        Create New Generation by performing the following steps\n",
    "                1) orders the population from min fitness to max fitness\n",
    "                2) Selects parents from ordered list to 'Mate'\n",
    "                3) assigns fitness to new organism and repeat \n",
    "        '''\n",
    "        self.num_generations +=1\n",
    "        g_idx = self.num_generations - 1\n",
    "        current_gen = deepcopy(self.generation[g_idx])\n",
    "        regen = order_generation(current_gen)\n",
    "        new_pop = []\n",
    "        for ii in range(int(self.generation[g_idx].population_size/2)):\n",
    "            p_sel = Roulette_Wheel_Mate_Selection(self.generation[g_idx].population_size)           \n",
    "            new_org1, new_org2 = Mating_Single_Cross_Over(regen.organisms[p_sel[0]],regen.organisms[p_sel[1]])\n",
    "            new_org1.fitness = Fitness_Multi_Bin(new_org1,self.nbins,self.weights)\n",
    "            new_org2.fitness = Fitness_Multi_Bin(new_org2,self.nbins,self.weights)\n",
    "            new_pop.append(new_org1)\n",
    "            new_pop.append(new_org2)\n",
    "        new_gen = Population(new_pop,self.nprtl)\n",
    "        self.generation.append(new_gen)"
   ]
  },
  {
   "cell_type": "markdown",
   "metadata": {},
   "source": [
    "<H1>Fitness Function</H1>\n",
    "Calculates absolutue value of error of perfect partitioning\n",
    "Ideal Soluation is \n",
    "<br>\n",
    "$\\sum| F_i - F_{ideal}| $"
   ]
  },
  {
   "cell_type": "code",
   "execution_count": 5,
   "metadata": {
    "collapsed": true
   },
   "outputs": [],
   "source": [
    "def Fitness_Multi_Bin(organism,NBINS,weights):\n",
    "    bins = np.zeros(NBINS)\n",
    "    for ii in range(len(organism.partition)):\n",
    "        bin_num = organism.partition[ii]        \n",
    "        bins[bin_num] =bins[bin_num] + weights[ii]\n",
    "    idealsol = sum(weights)/NBINS\n",
    "    return sum(abs(bins-idealsol))"
   ]
  },
  {
   "cell_type": "markdown",
   "metadata": {},
   "source": [
    "<H1>Ordering</h1>\n",
    "Each generation is ordered from smallest fitnes to largest\n"
   ]
  },
  {
   "cell_type": "code",
   "execution_count": 6,
   "metadata": {
    "collapsed": true
   },
   "outputs": [],
   "source": [
    "def order_generation(current_gen):\n",
    "    '''Orders Population from min to max fitness'''\n",
    "    current_gen.organisms.sort(key = lambda x: x.fitness)\n",
    "    return current_gen"
   ]
  },
  {
   "cell_type": "markdown",
   "metadata": {},
   "source": [
    "<H1>Roulette Wheel Mate Selection</H1>\n",
    "Probability of selection for mating is based on position of chromosome ranked by fitness\n",
    "\n",
    "$p(chromosome) = \\frac{N_{prt}-(R_{rank}-1)}{\\sum positions}$ \n",
    "\n",
    "Example with four chromosomes<br>\n",
    "$p(chromosome 1) = \\frac{4}{1+2+3+4} = 0.4$<br> \n",
    "$p(chromosome 2) = \\frac{3}{1+2+3+4} = 0.3$<br>\n",
    "$p(chromosome 3) = \\frac{2}{1+2+3+4} = 0.2$<br>\n",
    "$p(chromosome 4) = \\frac{1}{1+2+3+4} = 0.1$<br>\n",
    "\n",
    "<h5>Source: Genetic Algorithms in Electromagnetics, ch2 ~ Randy L. Haupt and Douglas H Werner</h5>"
   ]
  },
  {
   "cell_type": "code",
   "execution_count": 7,
   "metadata": {
    "collapsed": true
   },
   "outputs": [],
   "source": [
    "def Roulette_Wheel_Mate_Selection(pop_size):\n",
    "    parents = np.arange(pop_size)+1\n",
    "    print('Parents',parents)\n",
    "    prob = np.zeros(pop_size)\n",
    "    for ii in range(pop_size):\n",
    "        prob[ii] = parents[ii]/np.sum(parents)\n",
    "    prob[::-1] = prob #niffty way to reverse array\n",
    "    probsum = np.cumsum(prob)\n",
    "    print(probsum)\n",
    "    rand1 = np.random.rand(1)\n",
    "    rand2 = np.random.rand(1)\n",
    "    parent1 = np.digitize(rand1,probsum)\n",
    "    parent2 = np.digitize(rand2,probsum)\n",
    "    if parent1 == parent2:\n",
    "        parent2 = parent2 + 1\n",
    "    return [parent1,parent2]"
   ]
  },
  {
   "cell_type": "code",
   "execution_count": 8,
   "metadata": {
    "collapsed": false
   },
   "outputs": [
    {
     "name": "stdout",
     "output_type": "stream",
     "text": [
      "Parents [1 2 3 4]\n",
      "[ 0.4  0.7  0.9  1. ]\n"
     ]
    },
    {
     "data": {
      "text/plain": [
       "[array([0]), array([1])]"
      ]
     },
     "execution_count": 8,
     "metadata": {},
     "output_type": "execute_result"
    }
   ],
   "source": [
    "Roulette_Wheel_Mate_Selection(4)"
   ]
  },
  {
   "cell_type": "markdown",
   "metadata": {},
   "source": [
    "<h1>Mating Single Cross Over</h1>"
   ]
  },
  {
   "cell_type": "code",
   "execution_count": 9,
   "metadata": {
    "collapsed": true
   },
   "outputs": [],
   "source": [
    "def Mating_Single_Cross_Over(parent1,parent2):\n",
    "    '''\n",
    "    Generates offspring using a single cross over point.\n",
    "    Make Selection comes from a roulette wheel approach\n",
    "    '''\n",
    "    # Generate Cross Over Point\n",
    "    cross_over_point = np.random.randint(len(parent1.partition))\n",
    "    \n",
    "    #Deep Copy Parents\n",
    "    partition1 = deepcopy(parent1.partition)\n",
    "    partition2 = deepcopy(parent2.partition)\n",
    "    \n",
    "    #Deep Copy Opposite parent 'Chunk' up to cross over point\n",
    "    partition1[0:cross_over_point] = deepcopy(parent2.partition[0:cross_over_point])\n",
    "    partition2[0:cross_over_point] = deepcopy(parent1.partition[0:cross_over_point])\n",
    "    \n",
    "    #Create Two new Child Organisms and return them \n",
    "    organism1 = Organism(partition1)\n",
    "    organism2 = Organism(partition2)\n",
    "    return organism1, organism2"
   ]
  },
  {
   "cell_type": "code",
   "execution_count": 13,
   "metadata": {
    "collapsed": false
   },
   "outputs": [
    {
     "name": "stdout",
     "output_type": "stream",
     "text": [
      "[10, 11, 2, 3, 4, 5, 6, 7]\n",
      "[0, 1, 12, 13, 14, 15, 16, 17]\n"
     ]
    }
   ],
   "source": [
    "#Test Case:\n",
    "parent1 = Organism([0,1,2,3,4,5,6,7])\n",
    "parent2 = Organism([10,11,12,13,14,15,16,17])\n",
    "offspring1,offspring2 = Mating_Single_Cross_Over(parent1,parent2)\n",
    "print(offspring1.partition)\n",
    "print(offspring2.partition)"
   ]
  },
  {
   "cell_type": "markdown",
   "metadata": {},
   "source": [
    "<H1>Weights</H1>\n",
    "Partitioning Sets with Genetic Algorithms\n",
    "http://helpdesk.cs.uno.edu/people/faculty/bill/Partitioning-Sets-FLAIRS-2000.pdf"
   ]
  },
  {
   "cell_type": "code",
   "execution_count": 9,
   "metadata": {
    "collapsed": true
   },
   "outputs": [],
   "source": [
    "weights = [ 3380, 1824, 1481, 2060, 1225, 836, 1363, 2705, 4635, 648, 2588, 3380, 1952, 3832, 3176, 2316, 2479, 3433, 3519, 1363, 1824, 3305, 2156, 3305, 3049, 3980, 2787, 4635, 4068, 2992, 5932, 528, 3304, 4107]"
   ]
  },
  {
   "cell_type": "code",
   "execution_count": 10,
   "metadata": {
    "collapsed": true
   },
   "outputs": [],
   "source": [
    "#Program Parameters\n",
    "NPRTL = 34              #Partition Size - There are 34 numbers in the weight array\n",
    "NBINS = 10              #Number of Bins\n",
    "POPULATION_SIZE = 5   #Population Size\n",
    "NGEN = 10               #Number of Generations"
   ]
  },
  {
   "cell_type": "code",
   "execution_count": 11,
   "metadata": {
    "collapsed": false
   },
   "outputs": [],
   "source": [
    "#Create an object GA1 that has an initalized population\n",
    "GA1 = Environment(weights,NPRTL,POPULATION_SIZE,NBINS)"
   ]
  },
  {
   "cell_type": "code",
   "execution_count": 12,
   "metadata": {
    "collapsed": false
   },
   "outputs": [
    {
     "data": {
      "text/plain": [
       "27413.599999999999"
      ]
     },
     "execution_count": 12,
     "metadata": {},
     "output_type": "execute_result"
    }
   ],
   "source": [
    "GA1.generation[0].min_fitness"
   ]
  },
  {
   "cell_type": "code",
   "execution_count": 13,
   "metadata": {
    "collapsed": false
   },
   "outputs": [
    {
     "name": "stdout",
     "output_type": "stream",
     "text": [
      "Before Sort\n",
      "35739.0\n",
      "[0 4 4 1 2 3 5 7 3 9 6 0 1 8 4 5 4 8 5 3 4 7 4 2 2 8 7 5 3 6 7 2 7 9]\n",
      "29439.0\n",
      "[2 2 2 6 2 1 8 8 8 4 0 5 2 1 4 2 5 1 0 4 1 9 9 9 6 9 1 4 3 7 6 3 6 7]\n",
      "33423.0\n",
      "[4 2 4 8 6 0 9 8 7 7 1 3 2 7 7 6 4 5 2 0 6 1 8 2 0 5 3 9 3 7 2 1 8 5]\n",
      "36306.4\n",
      "[9 0 3 1 7 5 9 7 9 0 6 4 5 9 1 4 3 4 8 4 7 7 1 2 6 3 4 9 7 5 6 2 2 8]\n",
      "27413.6\n",
      "[4 5 2 7 5 3 6 3 1 2 6 1 8 0 2 6 8 4 9 0 7 1 2 9 5 3 7 5 2 9 6 7 7 2]\n",
      "After Sort\n",
      "27413.6\n",
      "[4 5 2 7 5 3 6 3 1 2 6 1 8 0 2 6 8 4 9 0 7 1 2 9 5 3 7 5 2 9 6 7 7 2]\n",
      "29439.0\n",
      "[2 2 2 6 2 1 8 8 8 4 0 5 2 1 4 2 5 1 0 4 1 9 9 9 6 9 1 4 3 7 6 3 6 7]\n",
      "33423.0\n",
      "[4 2 4 8 6 0 9 8 7 7 1 3 2 7 7 6 4 5 2 0 6 1 8 2 0 5 3 9 3 7 2 1 8 5]\n",
      "35739.0\n",
      "[0 4 4 1 2 3 5 7 3 9 6 0 1 8 4 5 4 8 5 3 4 7 4 2 2 8 7 5 3 6 7 2 7 9]\n",
      "36306.4\n",
      "[9 0 3 1 7 5 9 7 9 0 6 4 5 9 1 4 3 4 8 4 7 7 1 2 6 3 4 9 7 5 6 2 2 8]\n"
     ]
    }
   ],
   "source": [
    "print('Before Sort')\n",
    "for ii in range(GA1.generation[0].population_size):\n",
    "    print(GA1.generation[0].organisms[ii].fitness)\n",
    "    print(GA1.generation[0].organisms[ii].partition)\n",
    "order_generation(GA1.generation[0])\n",
    "print('After Sort')\n",
    "for ii in range(GA1.generation[0].population_size):\n",
    "    print(GA1.generation[0].organisms[ii].fitness)\n",
    "    print(GA1.generation[0].organisms[ii].partition)"
   ]
  },
  {
   "cell_type": "code",
   "execution_count": 15,
   "metadata": {
    "collapsed": false
   },
   "outputs": [
    {
     "name": "stdout",
     "output_type": "stream",
     "text": [
      "Parents [1 2 3 4 5]\n",
      "[ 0.33333333  0.6         0.8         0.93333333  1.        ]\n"
     ]
    },
    {
     "ename": "NameError",
     "evalue": "name 'Mating_Single_Cross_Over' is not defined",
     "output_type": "error",
     "traceback": [
      "\u001b[1;31m---------------------------------------------------------------------------\u001b[0m",
      "\u001b[1;31mNameError\u001b[0m                                 Traceback (most recent call last)",
      "\u001b[1;32m<ipython-input-15-34408a011cbb>\u001b[0m in \u001b[0;36m<module>\u001b[1;34m()\u001b[0m\n\u001b[0;32m      2\u001b[0m \u001b[0mfitplot\u001b[0m \u001b[1;33m=\u001b[0m \u001b[0mnp\u001b[0m\u001b[1;33m.\u001b[0m\u001b[0mzeros\u001b[0m\u001b[1;33m(\u001b[0m\u001b[0mNGEN\u001b[0m\u001b[1;33m)\u001b[0m\u001b[1;33m\u001b[0m\u001b[0m\n\u001b[0;32m      3\u001b[0m \u001b[1;32mfor\u001b[0m \u001b[0mii\u001b[0m \u001b[1;32min\u001b[0m \u001b[0mrange\u001b[0m\u001b[1;33m(\u001b[0m\u001b[0mNGEN\u001b[0m\u001b[1;33m)\u001b[0m\u001b[1;33m:\u001b[0m\u001b[1;33m\u001b[0m\u001b[0m\n\u001b[1;32m----> 4\u001b[1;33m     \u001b[0mGA1\u001b[0m\u001b[1;33m.\u001b[0m\u001b[0mCreate_New_Generation\u001b[0m\u001b[1;33m(\u001b[0m\u001b[1;33m)\u001b[0m\u001b[1;33m\u001b[0m\u001b[0m\n\u001b[0m\u001b[0;32m      5\u001b[0m     \u001b[0mfitplot\u001b[0m\u001b[1;33m[\u001b[0m\u001b[0mii\u001b[0m\u001b[1;33m]\u001b[0m \u001b[1;33m=\u001b[0m \u001b[0mtest\u001b[0m\u001b[1;33m.\u001b[0m\u001b[0mgeneration\u001b[0m\u001b[1;33m[\u001b[0m\u001b[0mii\u001b[0m\u001b[1;33m]\u001b[0m\u001b[1;33m.\u001b[0m\u001b[0mmin_fitness\u001b[0m\u001b[1;33m\u001b[0m\u001b[0m\n\u001b[0;32m      6\u001b[0m     \u001b[0mprint\u001b[0m\u001b[1;33m(\u001b[0m\u001b[0mii\u001b[0m\u001b[1;33m,\u001b[0m\u001b[0mtest\u001b[0m\u001b[1;33m.\u001b[0m\u001b[0mgeneration\u001b[0m\u001b[1;33m[\u001b[0m\u001b[0mii\u001b[0m\u001b[1;33m]\u001b[0m\u001b[1;33m.\u001b[0m\u001b[0mmin_fitness\u001b[0m\u001b[1;33m)\u001b[0m\u001b[1;33m\u001b[0m\u001b[0m\n",
      "\u001b[1;32m<ipython-input-4-43d2f983c94c>\u001b[0m in \u001b[0;36mCreate_New_Generation\u001b[1;34m(self)\u001b[0m\n\u001b[0;32m     33\u001b[0m         \u001b[1;32mfor\u001b[0m \u001b[0mii\u001b[0m \u001b[1;32min\u001b[0m \u001b[0mrange\u001b[0m\u001b[1;33m(\u001b[0m\u001b[0mself\u001b[0m\u001b[1;33m.\u001b[0m\u001b[0mgeneration\u001b[0m\u001b[1;33m[\u001b[0m\u001b[0mg_idx\u001b[0m\u001b[1;33m]\u001b[0m\u001b[1;33m.\u001b[0m\u001b[0mpopulation_size\u001b[0m\u001b[1;33m)\u001b[0m\u001b[1;33m:\u001b[0m\u001b[1;33m\u001b[0m\u001b[0m\n\u001b[0;32m     34\u001b[0m             \u001b[0mp_sel\u001b[0m \u001b[1;33m=\u001b[0m \u001b[0mRoulette_Wheel_Mate_Selection\u001b[0m\u001b[1;33m(\u001b[0m\u001b[0mself\u001b[0m\u001b[1;33m.\u001b[0m\u001b[0mgeneration\u001b[0m\u001b[1;33m[\u001b[0m\u001b[0mg_idx\u001b[0m\u001b[1;33m]\u001b[0m\u001b[1;33m.\u001b[0m\u001b[0mpopulation_size\u001b[0m\u001b[1;33m)\u001b[0m\u001b[1;33m\u001b[0m\u001b[0m\n\u001b[1;32m---> 35\u001b[1;33m             \u001b[0mnew_part\u001b[0m \u001b[1;33m=\u001b[0m \u001b[0mMating_Single_Cross_Over\u001b[0m\u001b[1;33m(\u001b[0m\u001b[0mregen\u001b[0m\u001b[1;33m.\u001b[0m\u001b[0morganisms\u001b[0m\u001b[1;33m[\u001b[0m\u001b[0mp_sel\u001b[0m\u001b[1;33m[\u001b[0m\u001b[1;36m0\u001b[0m\u001b[1;33m]\u001b[0m\u001b[1;33m]\u001b[0m\u001b[1;33m,\u001b[0m\u001b[0mregen\u001b[0m\u001b[1;33m.\u001b[0m\u001b[0morganisms\u001b[0m\u001b[1;33m[\u001b[0m\u001b[0mp_sel\u001b[0m\u001b[1;33m[\u001b[0m\u001b[1;36m1\u001b[0m\u001b[1;33m]\u001b[0m\u001b[1;33m]\u001b[0m\u001b[1;33m)\u001b[0m\u001b[1;33m\u001b[0m\u001b[0m\n\u001b[0m\u001b[0;32m     36\u001b[0m             \u001b[0mnew_org\u001b[0m \u001b[1;33m=\u001b[0m \u001b[0mOrganism\u001b[0m\u001b[1;33m(\u001b[0m\u001b[0mnew_part\u001b[0m\u001b[1;33m)\u001b[0m\u001b[1;33m\u001b[0m\u001b[0m\n\u001b[0;32m     37\u001b[0m             \u001b[0mnew_org\u001b[0m\u001b[1;33m.\u001b[0m\u001b[0mfitness\u001b[0m \u001b[1;33m=\u001b[0m \u001b[0mFitness_Multi_Bin\u001b[0m\u001b[1;33m(\u001b[0m\u001b[0mnew_org\u001b[0m\u001b[1;33m,\u001b[0m\u001b[0mself\u001b[0m\u001b[1;33m.\u001b[0m\u001b[0mnbins\u001b[0m\u001b[1;33m,\u001b[0m\u001b[0mself\u001b[0m\u001b[1;33m.\u001b[0m\u001b[0mweights\u001b[0m\u001b[1;33m)\u001b[0m\u001b[1;33m\u001b[0m\u001b[0m\n",
      "\u001b[1;31mNameError\u001b[0m: name 'Mating_Single_Cross_Over' is not defined"
     ]
    }
   ],
   "source": [
    "#Loop to run the program \n",
    "fitplot = np.zeros(NGEN)\n",
    "for ii in range(NGEN):\n",
    "    GA1.Create_New_Generation()\n",
    "    fitplot[ii] = test.generation[ii].min_fitness\n",
    "    print(ii,test.generation[ii].min_fitness)"
   ]
  },
  {
   "cell_type": "code",
   "execution_count": null,
   "metadata": {
    "collapsed": true
   },
   "outputs": [],
   "source": [
    "#plot the results\n",
    "plt.plot(fitplot)\n",
    "plt.ylabel('Fitness')\n",
    "plt.xlabel('Generations')\n",
    "plt.show()"
   ]
  }
 ],
 "metadata": {
  "kernelspec": {
   "display_name": "Python 3",
   "name": "python3"
  },
  "language_info": {
   "codemirror_mode": {
    "name": "ipython",
    "version": 3
   },
   "file_extension": ".py",
   "mimetype": "text/x-python",
   "name": "python",
   "nbconvert_exporter": "python",
   "pygments_lexer": "ipython3",
   "version": "3.4.2"
  }
 },
 "nbformat": 4,
 "nbformat_minor": 0
}